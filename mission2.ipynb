{
 "cells": [
  {
   "cell_type": "code",
   "execution_count": null,
   "id": "122e3992-4539-46a0-af6c-b3981839e026",
   "metadata": {},
   "outputs": [],
   "source": [
    "import pandas as pd\n",
    "import requests\n",
    "from bs4 import BeautifulSoup as bs\n",
    "#scraping for mission INSAT-3d page "
   ]
  },
  {
   "cell_type": "code",
   "execution_count": 3,
   "id": "8e52cc7d-d9d3-4be7-8938-b357cc357368",
   "metadata": {},
   "outputs": [
    {
     "name": "stdout",
     "output_type": "stream",
     "text": [
      "<div class=\"field-item even\" property=\"content:encoded\">\n",
      " <p>\n",
      "  <span>\n",
      "   I\n",
      "  </span>\n",
      "  NSAT-3D is a dedicated meteorological spacecraft designed for enhanced meteorological observation and monitoring of land and ocean surfaces of weather forecasting and disaster warning. INSAT-3D is configured on I-2K bus with Sounder, Imager and Data Relay Transponder (DRT) and Satellite Aided Search &amp; Rescue (SAS&amp;R) Payloads. INSAT-3D was flown on July 26, 2013 with a lift of mass of about 2100 kg by ARIANE-5/GSLV-MK II /Soyuz launcher and expected minimum mission life is seven years. Communication Payload sub systems are configured to support INSAT system for DRT SAS&amp;R and Meteorological Payload services.\n",
      " </p>\n",
      " <p>\n",
      "  The mission goal is stated as \"to provide an operational, environmental &amp; storm warning system to protect life &amp; property and also to monitor earth's surface and carryout oceanic observations and also provide data dissemination capabilities\"\n",
      " </p>\n",
      " <p>\n",
      "  The satellite has 3 payloads\n",
      " </p>\n",
      " <ol style=\"list-style-type: circle;\">\n",
      "  <li>\n",
      "   Meteorological (MET) - IMAGER and SOUNDER\n",
      "  </li>\n",
      "  <li>\n",
      "   Data Relay Transponder (DRT)\n",
      "  </li>\n",
      "  <li>\n",
      "   Satellite Aided Search and Rescue (SAS&amp;R)\n",
      "  </li>\n",
      " </ol>\n",
      " <p>\n",
      "  The geophysical parameters that will be extracted from INSAT3D are Outgoing Longwave Radiation (OLR), Quantitative Precipitation Estimation (QPE), Sea Surface Temperature (SST), Snow Cover, Snow Depth, Fire, Smoke, Aerosol, Cloud Motion Vector (CMV), Water Vapour Wind (WVW), Upper Tropospheric Humidity (UTH), Temperature, Humidity Profile and Total Ozone, Fog, Visible Wind Vector and other value added parameters from Imager and Sounder.\n",
      " </p>\n",
      " <p>\n",
      " </p>\n",
      "</div>\n",
      "\n"
     ]
    }
   ],
   "source": [
    "res= requests.get('https://www.mosdac.gov.in/insat-3d-introduction')\n",
    "web =bs(res.content)\n",
    "data= web.find('div',class_='field-item even')\n",
    "rdata=data.prettify()\n",
    "print(rdata)"
   ]
  },
  {
   "cell_type": "code",
   "execution_count": 4,
   "id": "4bb0315f-6cdd-4267-b7d1-14edde4d055e",
   "metadata": {},
   "outputs": [
    {
     "data": {
      "text/plain": [
       "['INSAT-3D is a dedicated meteorological spacecraft designed for enhanced meteorological observation and monitoring of land and ocean surfaces of weather forecasting and disaster warning. INSAT-3D is configured on I-2K bus with Sounder, Imager and Data Relay Transponder (DRT) and Satellite Aided Search & Rescue (SAS&R) Payloads. INSAT-3D was flown on July 26, 2013 with a lift of mass of about 2100 kg by ARIANE-5/GSLV-MK II /Soyuz launcher and expected minimum mission life is seven years. Communication Payload sub systems are configured to support INSAT system for DRT SAS&R and Meteorological Payload services.',\n",
       " 'The mission goal is stated as \"to provide an operational, environmental & storm warning system to protect life & property and also to monitor earth\\'s surface and carryout oceanic observations and also provide data dissemination capabilities\"',\n",
       " 'The satellite has 3 payloads',\n",
       " '- Meteorological (MET) - IMAGER and SOUNDER\\n- Data Relay Transponder (DRT)\\n- Satellite Aided Search and Rescue (SAS&R)',\n",
       " 'The geophysical parameters that will be extracted from INSAT3D are Outgoing Longwave Radiation (OLR), Quantitative Precipitation Estimation (QPE), Sea Surface Temperature (SST), Snow Cover, Snow Depth, Fire, Smoke, Aerosol, Cloud Motion Vector (CMV), Water Vapour Wind (WVW), Upper Tropospheric Humidity (UTH), Temperature, Humidity Profile and Total Ozone, Fog, Visible Wind Vector and other value added parameters from Imager and Sounder.']"
      ]
     },
     "execution_count": 4,
     "metadata": {},
     "output_type": "execute_result"
    }
   ],
   "source": [
    "para1= data.find_all('p')[0:3]\n",
    "\n",
    "ls=[]\n",
    "para2= data.find_all('p')[3:4]\n",
    "for p in para1+para2 :\n",
    "    para=p.get_text()\n",
    "    ls.append(para)\n",
    "ls\n",
    "li_tags = data.find_all('li')\n",
    "payloads = [li.get_text(strip=True) for li in li_tags]\n",
    "payload_text = \"\\n\".join(f\"- {item}\" for item in payloads)\n",
    "ls.insert(3, payload_text)\n",
    "ls"
   ]
  },
  {
   "cell_type": "code",
   "execution_count": null,
   "id": "6ca36a04-8fe7-4c2c-bc4c-b5ee8d815b0e",
   "metadata": {},
   "outputs": [],
   "source": []
  },
  {
   "cell_type": "code",
   "execution_count": 5,
   "id": "22643684-1227-4c49-a2fe-711187a2a247",
   "metadata": {},
   "outputs": [
    {
     "data": {
      "text/plain": [
       "<div class=\"field-item even\" property=\"content:encoded\"><p>INSAT or the Indian National Satellite System is a series of multipurpose Geo-stationary satellites launched by ISRO to satisfy the telecommunications, broadcasting, meteorology, and search and rescue needs of India. Commissioned in 1983, INSAT is the largest domestic communication system in the Asia Pacific Region. The satellite is monitored and controlled by Master Control Facilities that exist in Hassan and Bhopal. INSAT-3D is a multipurpose geosynchronous spacecraft with main meteorological payloads (imager and sounder). The main objectives for this mission are to provide an operational, environmental and storm warning system to protect life and property. INSAT3D is monitoring the earth’s surface, oceanic observations and also provide data dissemination capabilities. It provides Broadcast Satellite Services (BSS) through two S-band transponders. The data acquisition and processing system is established at Space Applications Centre, Bopal Campus, Ahmedabad, India. The processing of INSAT-3D data is taken place broadly in four steps. </p>\n",
       "<ol>\n",
       "<li>Ground receiving system to receive data</li>\n",
       "<li>Data Reception (DR) system to generate raw data (L0) files</li>\n",
       "<li>Data Processing (DP) system to process L0 data and produce L1B data files (Calibrated and Geo located)</li>\n",
       "<li>Product generation and Dissemination system</li>\n",
       "</ol>\n",
       "</div>"
      ]
     },
     "execution_count": 5,
     "metadata": {},
     "output_type": "execute_result"
    }
   ],
   "source": [
    "res= requests.get('https://www.mosdac.gov.in/insat-3d')\n",
    "con = bs(res.content)\n",
    "data2= con.find('div', class_='field-item even')\n",
    "data2"
   ]
  },
  {
   "cell_type": "code",
   "execution_count": 6,
   "id": "c571ecce-bb56-4169-9776-409595618d5e",
   "metadata": {},
   "outputs": [],
   "source": [
    "para= data2.find('p')\n",
    "ls.append(para.get_text(strip=True))"
   ]
  },
  {
   "cell_type": "code",
   "execution_count": 7,
   "id": "4219b0b2-5cf9-4d5d-8f4a-dd93ee6630dc",
   "metadata": {},
   "outputs": [
    {
     "data": {
      "text/plain": [
       "['INSAT-3D is a dedicated meteorological spacecraft designed for enhanced meteorological observation and monitoring of land and ocean surfaces of weather forecasting and disaster warning. INSAT-3D is configured on I-2K bus with Sounder, Imager and Data Relay Transponder (DRT) and Satellite Aided Search & Rescue (SAS&R) Payloads. INSAT-3D was flown on July 26, 2013 with a lift of mass of about 2100 kg by ARIANE-5/GSLV-MK II /Soyuz launcher and expected minimum mission life is seven years. Communication Payload sub systems are configured to support INSAT system for DRT SAS&R and Meteorological Payload services.',\n",
       " 'The mission goal is stated as \"to provide an operational, environmental & storm warning system to protect life & property and also to monitor earth\\'s surface and carryout oceanic observations and also provide data dissemination capabilities\"',\n",
       " 'The satellite has 3 payloads',\n",
       " '- Meteorological (MET) - IMAGER and SOUNDER\\n- Data Relay Transponder (DRT)\\n- Satellite Aided Search and Rescue (SAS&R)',\n",
       " 'The geophysical parameters that will be extracted from INSAT3D are Outgoing Longwave Radiation (OLR), Quantitative Precipitation Estimation (QPE), Sea Surface Temperature (SST), Snow Cover, Snow Depth, Fire, Smoke, Aerosol, Cloud Motion Vector (CMV), Water Vapour Wind (WVW), Upper Tropospheric Humidity (UTH), Temperature, Humidity Profile and Total Ozone, Fog, Visible Wind Vector and other value added parameters from Imager and Sounder.',\n",
       " 'INSAT or the Indian National Satellite System is a series of multipurpose Geo-stationary satellites launched by ISRO to satisfy the telecommunications, broadcasting, meteorology, and search and rescue needs of India. Commissioned in 1983, INSAT is the largest domestic communication system in the Asia Pacific Region. The satellite is monitored and controlled by Master Control Facilities that exist in Hassan and Bhopal. INSAT-3D is a multipurpose geosynchronous spacecraft with main meteorological payloads (imager and sounder). The main objectives for this mission are to provide an operational, environmental and storm warning system to protect life and property. INSAT3D is monitoring the earth’s surface, oceanic observations and also provide data dissemination capabilities. It provides Broadcast Satellite Services (BSS) through two S-band transponders. The data acquisition and processing system is established at Space Applications Centre, Bopal Campus, Ahmedabad, India. The processing of INSAT-3D data is taken place broadly in four steps.']"
      ]
     },
     "execution_count": 7,
     "metadata": {},
     "output_type": "execute_result"
    }
   ],
   "source": [
    "ls\n"
   ]
  },
  {
   "cell_type": "code",
   "execution_count": 12,
   "id": "71dccf9d-b425-4611-9417-09cf26602766",
   "metadata": {},
   "outputs": [],
   "source": [
    "import json\n",
    "\n",
    "# Save to a file\n",
    "with open(\"missions2.json\", \"w\", encoding=\"utf-8\") as f:\n",
    "    json.dump(ls, f, indent=4, ensure_ascii=False)\n",
    "\n"
   ]
  },
  {
   "cell_type": "code",
   "execution_count": 8,
   "id": "114e301d-19d0-4c2c-aab7-3b9134cd1808",
   "metadata": {},
   "outputs": [
    {
     "data": {
      "text/plain": [
       "['Ground receiving system to receive data',\n",
       " 'Data Reception (DR) system to generate raw data (L0) files',\n",
       " 'Data Processing (DP) system to process L0 data and produce L1B data files (Calibrated and Geo located)',\n",
       " 'Product generation and Dissemination system']"
      ]
     },
     "execution_count": 8,
     "metadata": {},
     "output_type": "execute_result"
    }
   ],
   "source": [
    "ls3=[]\n",
    "ls3 = [li.get_text(strip=True) for li in data2.find_all('li')[:5]]\n",
    "\n",
    "\n",
    "ls3"
   ]
  },
  {
   "cell_type": "code",
   "execution_count": null,
   "id": "96dd418b-3518-4f22-a425-18bb2a11a7e3",
   "metadata": {},
   "outputs": [],
   "source": []
  },
  {
   "cell_type": "code",
   "execution_count": 9,
   "id": "6dd71feb-07b4-49fb-9784-3d41da8a9a4d",
   "metadata": {},
   "outputs": [
    {
     "data": {
      "text/plain": [
       "['INSAT-3D is a dedicated meteorological spacecraft designed for enhanced meteorological observation and monitoring of land and ocean surfaces of weather forecasting and disaster warning. INSAT-3D is configured on I-2K bus with Sounder, Imager and Data Relay Transponder (DRT) and Satellite Aided Search & Rescue (SAS&R) Payloads. INSAT-3D was flown on July 26, 2013 with a lift of mass of about 2100 kg by ARIANE-5/GSLV-MK II /Soyuz launcher and expected minimum mission life is seven years. Communication Payload sub systems are configured to support INSAT system for DRT SAS&R and Meteorological Payload services.',\n",
       " 'The mission goal is stated as \"to provide an operational, environmental & storm warning system to protect life & property and also to monitor earth\\'s surface and carryout oceanic observations and also provide data dissemination capabilities\"',\n",
       " 'The satellite has 3 payloads',\n",
       " '- Meteorological (MET) - IMAGER and SOUNDER\\n- Data Relay Transponder (DRT)\\n- Satellite Aided Search and Rescue (SAS&R)',\n",
       " 'The geophysical parameters that will be extracted from INSAT3D are Outgoing Longwave Radiation (OLR), Quantitative Precipitation Estimation (QPE), Sea Surface Temperature (SST), Snow Cover, Snow Depth, Fire, Smoke, Aerosol, Cloud Motion Vector (CMV), Water Vapour Wind (WVW), Upper Tropospheric Humidity (UTH), Temperature, Humidity Profile and Total Ozone, Fog, Visible Wind Vector and other value added parameters from Imager and Sounder.',\n",
       " 'INSAT or the Indian National Satellite System is a series of multipurpose Geo-stationary satellites launched by ISRO to satisfy the telecommunications, broadcasting, meteorology, and search and rescue needs of India. Commissioned in 1983, INSAT is the largest domestic communication system in the Asia Pacific Region. The satellite is monitored and controlled by Master Control Facilities that exist in Hassan and Bhopal. INSAT-3D is a multipurpose geosynchronous spacecraft with main meteorological payloads (imager and sounder). The main objectives for this mission are to provide an operational, environmental and storm warning system to protect life and property. INSAT3D is monitoring the earth’s surface, oceanic observations and also provide data dissemination capabilities. It provides Broadcast Satellite Services (BSS) through two S-band transponders. The data acquisition and processing system is established at Space Applications Centre, Bopal Campus, Ahmedabad, India. The processing of INSAT-3D data is taken place broadly in four steps.']"
      ]
     },
     "execution_count": 9,
     "metadata": {},
     "output_type": "execute_result"
    }
   ],
   "source": [
    "ls"
   ]
  },
  {
   "cell_type": "code",
   "execution_count": 10,
   "id": "76fb77ca-bca3-4621-8325-1f829a90b09a",
   "metadata": {},
   "outputs": [],
   "source": [
    "# Join the list into a bullet-point string\n",
    "extra_text = \"\\n\".join([f\"- {item}\" for item in ls3])\n",
    "\n",
    "# Append it to element 5\n",
    "ls[5] += \"\\n\" + extra_text\n"
   ]
  },
  {
   "cell_type": "code",
   "execution_count": 11,
   "id": "a7b58964-ec4e-4626-869f-cc07315d95d4",
   "metadata": {},
   "outputs": [
    {
     "data": {
      "text/plain": [
       "['INSAT-3D is a dedicated meteorological spacecraft designed for enhanced meteorological observation and monitoring of land and ocean surfaces of weather forecasting and disaster warning. INSAT-3D is configured on I-2K bus with Sounder, Imager and Data Relay Transponder (DRT) and Satellite Aided Search & Rescue (SAS&R) Payloads. INSAT-3D was flown on July 26, 2013 with a lift of mass of about 2100 kg by ARIANE-5/GSLV-MK II /Soyuz launcher and expected minimum mission life is seven years. Communication Payload sub systems are configured to support INSAT system for DRT SAS&R and Meteorological Payload services.',\n",
       " 'The mission goal is stated as \"to provide an operational, environmental & storm warning system to protect life & property and also to monitor earth\\'s surface and carryout oceanic observations and also provide data dissemination capabilities\"',\n",
       " 'The satellite has 3 payloads',\n",
       " '- Meteorological (MET) - IMAGER and SOUNDER\\n- Data Relay Transponder (DRT)\\n- Satellite Aided Search and Rescue (SAS&R)',\n",
       " 'The geophysical parameters that will be extracted from INSAT3D are Outgoing Longwave Radiation (OLR), Quantitative Precipitation Estimation (QPE), Sea Surface Temperature (SST), Snow Cover, Snow Depth, Fire, Smoke, Aerosol, Cloud Motion Vector (CMV), Water Vapour Wind (WVW), Upper Tropospheric Humidity (UTH), Temperature, Humidity Profile and Total Ozone, Fog, Visible Wind Vector and other value added parameters from Imager and Sounder.',\n",
       " 'INSAT or the Indian National Satellite System is a series of multipurpose Geo-stationary satellites launched by ISRO to satisfy the telecommunications, broadcasting, meteorology, and search and rescue needs of India. Commissioned in 1983, INSAT is the largest domestic communication system in the Asia Pacific Region. The satellite is monitored and controlled by Master Control Facilities that exist in Hassan and Bhopal. INSAT-3D is a multipurpose geosynchronous spacecraft with main meteorological payloads (imager and sounder). The main objectives for this mission are to provide an operational, environmental and storm warning system to protect life and property. INSAT3D is monitoring the earth’s surface, oceanic observations and also provide data dissemination capabilities. It provides Broadcast Satellite Services (BSS) through two S-band transponders. The data acquisition and processing system is established at Space Applications Centre, Bopal Campus, Ahmedabad, India. The processing of INSAT-3D data is taken place broadly in four steps.\\n- Ground receiving system to receive data\\n- Data Reception (DR) system to generate raw data (L0) files\\n- Data Processing (DP) system to process L0 data and produce L1B data files (Calibrated and Geo located)\\n- Product generation and Dissemination system']"
      ]
     },
     "execution_count": 11,
     "metadata": {},
     "output_type": "execute_result"
    }
   ],
   "source": [
    "ls"
   ]
  },
  {
   "cell_type": "code",
   "execution_count": null,
   "id": "23544e24-12a5-45f1-84a5-21a4468744eb",
   "metadata": {},
   "outputs": [],
   "source": []
  },
  {
   "cell_type": "code",
   "execution_count": null,
   "id": "6b8edf53-4e5f-4760-84ea-9c42490eef5a",
   "metadata": {},
   "outputs": [],
   "source": []
  }
 ],
 "metadata": {
  "kernelspec": {
   "display_name": "Python 3 (ipykernel)",
   "language": "python",
   "name": "python3"
  },
  "language_info": {
   "codemirror_mode": {
    "name": "ipython",
    "version": 3
   },
   "file_extension": ".py",
   "mimetype": "text/x-python",
   "name": "python",
   "nbconvert_exporter": "python",
   "pygments_lexer": "ipython3",
   "version": "3.12.3"
  }
 },
 "nbformat": 4,
 "nbformat_minor": 5
}
