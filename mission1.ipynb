{
 "cells": [
  {
   "cell_type": "code",
   "execution_count": null,
   "id": "16907603-1b5f-4495-ba73-53f67d6ff4cd",
   "metadata": {},
   "outputs": [],
   "source": [
    "import pandas as pd\n",
    "import requests\n",
    "from bs4 import BeautifulSoup as bs\n",
    "#scraping for mission INSAT-3dr-intro page"
   ]
  },
  {
   "cell_type": "code",
   "execution_count": 7,
   "id": "0ff2abdb-ed16-44fd-afc5-f470f5ccc3b1",
   "metadata": {
    "scrolled": true
   },
   "outputs": [
    {
     "name": "stdout",
     "output_type": "stream",
     "text": [
      "<div class=\"field-item even\" property=\"content:encoded\">\n",
      " <p>\n",
      "  <span>\n",
      "   I\n",
      "  </span>\n",
      "  NSAT-3DR is a dedicated meteorological spacecraft designed for enhanced meteorological observations and monitoring of land and ocean surfaces for weather forecasting and disaster warning. INSAT-3DR is configured on I-2K bus with Sounder, Imager and Data Relay Transponder (DRT) and Satellite Aided Search &amp; Rescue (SAS&amp;R) Payloads. INSAT-3DR with a lift of mass of about 2211 kg was flown on September 08, 2016 by GSLV-F05. Communication Payload sub systems are configured to support INSAT system for DRT SAS&amp;R and Meteorological Payload services.\n",
      " </p>\n",
      " <p>\n",
      "  The mission goal is stated as \"to provide an operational, environmental &amp; storm warning system to protect life &amp; property and also to monitor earth's surface and carryout oceanic observations and also provide data dissemination capabilities\"\n",
      " </p>\n",
      " <p>\n",
      "  The satellite has 3 payloads\n",
      " </p>\n",
      " <ol style=\"list-style-type: circle;\">\n",
      "  <li>\n",
      "   Meteorological (MET) - IMAGER and SOUNDER\n",
      "  </li>\n",
      "  <li>\n",
      "   Data Relay Transponder (DRT)\n",
      "  </li>\n",
      "  <li>\n",
      "   Satellite Aided Search and Rescue (SAS&amp;R)\n",
      "  </li>\n",
      " </ol>\n",
      " <p>\n",
      "  The geophysical parameters that will be extracted from INSAT-3DR are Outgoing Longwave Radiation (OLR), Quantitative Precipitation Estimation (QPE), Sea Surface Temperature (SST), Snow Cover, Snow Depth, Fire, Smoke, Aerosol, Cloud Motion Vectors (CMV), Water Vapour Winds (WVW), Upper Tropospheric Humidity (UTH), Temperature, Humidity Profile and Total Ozone, Fog, Visible Wind Vectors and other value added parameters from Imager and Sounder.\n",
      " </p>\n",
      "</div>\n",
      "\n"
     ]
    }
   ],
   "source": [
    "res= requests.get('https://www.mosdac.gov.in/insat-3dr-introduction')\n",
    "web =bs(res.content)\n",
    "data= web.find('div',class_='field-item even')\n",
    "rdata=data.prettify()\n",
    "print(rdata)"
   ]
  },
  {
   "cell_type": "code",
   "execution_count": 8,
   "id": "f483408c-32ed-4706-8710-40ff38d40d1a",
   "metadata": {},
   "outputs": [
    {
     "data": {
      "text/plain": [
       "['INSAT-3DR is a dedicated meteorological spacecraft designed for enhanced meteorological observations and monitoring of land and ocean surfaces for weather forecasting and disaster warning. INSAT-3DR is configured on I-2K bus with Sounder, Imager and Data Relay Transponder (DRT) and Satellite Aided Search & Rescue (SAS&R) Payloads. INSAT-3DR with a lift of mass of about 2211 kg was flown on September 08, 2016 by GSLV-F05. Communication Payload sub systems are configured to support INSAT system for DRT SAS&R and Meteorological Payload services.',\n",
       " 'The mission goal is stated as \"to provide an operational, environmental & storm warning system to protect life & property and also to monitor earth\\'s surface and carryout oceanic observations and also provide data dissemination capabilities\"',\n",
       " 'The satellite has 3 payloads',\n",
       " '- Meteorological (MET) - IMAGER and SOUNDER\\n- Data Relay Transponder (DRT)\\n- Satellite Aided Search and Rescue (SAS&R)',\n",
       " 'The geophysical parameters that will be extracted from INSAT-3DR are Outgoing Longwave Radiation (OLR), Quantitative Precipitation Estimation (QPE), Sea Surface Temperature (SST), Snow Cover, Snow Depth, Fire, Smoke, Aerosol, Cloud Motion Vectors (CMV), Water Vapour Winds (WVW), Upper Tropospheric Humidity (UTH), Temperature, Humidity Profile and Total Ozone, Fog, Visible Wind Vectors and other value added parameters from Imager and Sounder.']"
      ]
     },
     "execution_count": 8,
     "metadata": {},
     "output_type": "execute_result"
    }
   ],
   "source": [
    "para1= data.find_all('p')[0:3]\n",
    "\n",
    "ls=[]\n",
    "para2= data.find_all('p')[3:4]\n",
    "for p in para1+para2 :\n",
    "    para=p.get_text()\n",
    "    ls.append(para)\n",
    "ls\n",
    "li_tags = data.find_all('li')\n",
    "payloads = [li.get_text(strip=True) for li in li_tags]\n",
    "payload_text = \"\\n\".join(f\"- {item}\" for item in payloads)\n",
    "ls.insert(3, payload_text)\n",
    "ls"
   ]
  },
  {
   "cell_type": "code",
   "execution_count": 9,
   "id": "8047592f-2253-4194-9d14-9ef003f0221b",
   "metadata": {},
   "outputs": [],
   "source": [
    "import json\n",
    "\n",
    "# Save to a file\n",
    "with open(\"missions1.json\", \"w\", encoding=\"utf-8\") as f:\n",
    "    json.dump(ls, f, indent=4, ensure_ascii=False)\n",
    "\n"
   ]
  },
  {
   "cell_type": "code",
   "execution_count": null,
   "id": "16a3afa7-b9c4-4953-930b-d3a052c2b309",
   "metadata": {},
   "outputs": [],
   "source": []
  }
 ],
 "metadata": {
  "kernelspec": {
   "display_name": "Python (jupyter-env)",
   "language": "python",
   "name": "jupyter-env"
  },
  "language_info": {
   "codemirror_mode": {
    "name": "ipython",
    "version": 3
   },
   "file_extension": ".py",
   "mimetype": "text/x-python",
   "name": "python",
   "nbconvert_exporter": "python",
   "pygments_lexer": "ipython3",
   "version": "3.12.3"
  }
 },
 "nbformat": 4,
 "nbformat_minor": 5
}
